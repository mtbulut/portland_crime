{
 "cells": [
  {
   "cell_type": "code",
   "execution_count": 1,
   "metadata": {},
   "outputs": [],
   "source": [
    "import pandas as pd\n",
    "import os"
   ]
  },
  {
   "cell_type": "code",
   "execution_count": 2,
   "metadata": {},
   "outputs": [],
   "source": [
    "import numpy as np"
   ]
  },
  {
   "cell_type": "code",
   "execution_count": 3,
   "metadata": {},
   "outputs": [],
   "source": [
    "path = os.path.join(\"Unsolved/Resources\", \"crime_incident_data2017.csv\")"
   ]
  },
  {
   "cell_type": "code",
   "execution_count": 4,
   "metadata": {},
   "outputs": [],
   "source": [
    "df =pd.read_csv(path)"
   ]
  },
  {
   "cell_type": "code",
   "execution_count": 11,
   "metadata": {},
   "outputs": [],
   "source": [
    "df = pd.read_csv(path)\\\n",
    "     .rename(columns= lambda s: s.lower().replace(' ', '_'))\\\n",
    "    [[\"neighborhood\",\n",
    "    'occur_date',\n",
    "    'occur_time',\n",
    "    'offense_category',\n",
    "    'offense_count',\n",
    "    'offense_type',\n",
    "    'report_date'\n",
    "   ]]\\\n",
    "    .dropna()\\\n",
    "    .assign(report_date=lambda df: pd.to_datetime(df['report_date'], format=\"%m/%d/%y\") )\n",
    "\n",
    "occur_datetime = pd.to_datetime(\n",
    "    df[\"occur_date\"] +\":\"+ df['occur_time'].astype(\"str\").apply(lambda s: s[:-2]+ \":\" +s[-2:]),\n",
    "                                                                format=\"%m/%d/%y:%H:%M\",\n",
    "                                                                errors=\"coerce\"\n",
    "                                                               )\n",
    "\n",
    "df = df.assign(occur_datetime=occur_datetime)\\\n",
    "    .drop(\"occur_date\", axis = 1)\\\n",
    "    .drop(\"occur_time\", axis = 1)"
   ]
  },
  {
   "cell_type": "code",
   "execution_count": null,
   "metadata": {},
   "outputs": [],
   "source": [
    "# Bu kisimda listeden bir columns dusmek istersen drop methodunu kullanmak gerekiyor. "
   ]
  },
  {
   "cell_type": "code",
   "execution_count": 7,
   "metadata": {},
   "outputs": [
    {
     "data": {
      "text/html": [
       "<div>\n",
       "<style scoped>\n",
       "    .dataframe tbody tr th:only-of-type {\n",
       "        vertical-align: middle;\n",
       "    }\n",
       "\n",
       "    .dataframe tbody tr th {\n",
       "        vertical-align: top;\n",
       "    }\n",
       "\n",
       "    .dataframe thead th {\n",
       "        text-align: right;\n",
       "    }\n",
       "</style>\n",
       "<table border=\"1\" class=\"dataframe\">\n",
       "  <thead>\n",
       "    <tr style=\"text-align: right;\">\n",
       "      <th></th>\n",
       "      <th>neighborhood</th>\n",
       "      <th>occur_date</th>\n",
       "      <th>occur_time</th>\n",
       "      <th>offense_category</th>\n",
       "      <th>offense_count</th>\n",
       "      <th>offense_type</th>\n",
       "      <th>report_date</th>\n",
       "      <th>occur_datetime</th>\n",
       "    </tr>\n",
       "  </thead>\n",
       "  <tbody>\n",
       "    <tr>\n",
       "      <th>1</th>\n",
       "      <td>Centennial</td>\n",
       "      <td>1/20/00</td>\n",
       "      <td>1615</td>\n",
       "      <td>Fraud Offenses</td>\n",
       "      <td>1</td>\n",
       "      <td>Identity Theft</td>\n",
       "      <td>2017-01-20</td>\n",
       "      <td>2000-01-20 16:15:00</td>\n",
       "    </tr>\n",
       "    <tr>\n",
       "      <th>2</th>\n",
       "      <td>Montavilla</td>\n",
       "      <td>12/1/03</td>\n",
       "      <td>800</td>\n",
       "      <td>Fraud Offenses</td>\n",
       "      <td>1</td>\n",
       "      <td>False Pretenses/Swindle/Confidence Game</td>\n",
       "      <td>2017-01-09</td>\n",
       "      <td>2003-12-01 08:00:00</td>\n",
       "    </tr>\n",
       "    <tr>\n",
       "      <th>3</th>\n",
       "      <td>Southwest Hills</td>\n",
       "      <td>1/1/10</td>\n",
       "      <td>0</td>\n",
       "      <td>Fraud Offenses</td>\n",
       "      <td>1</td>\n",
       "      <td>Identity Theft</td>\n",
       "      <td>2017-01-05</td>\n",
       "      <td>NaT</td>\n",
       "    </tr>\n",
       "    <tr>\n",
       "      <th>4</th>\n",
       "      <td>Southwest Hills</td>\n",
       "      <td>1/1/10</td>\n",
       "      <td>0</td>\n",
       "      <td>Larceny Offenses</td>\n",
       "      <td>1</td>\n",
       "      <td>All Other Larceny</td>\n",
       "      <td>2017-01-05</td>\n",
       "      <td>NaT</td>\n",
       "    </tr>\n",
       "    <tr>\n",
       "      <th>5</th>\n",
       "      <td>King</td>\n",
       "      <td>11/28/10</td>\n",
       "      <td>1612</td>\n",
       "      <td>Fraud Offenses</td>\n",
       "      <td>1</td>\n",
       "      <td>Identity Theft</td>\n",
       "      <td>2017-01-03</td>\n",
       "      <td>2010-11-28 16:12:00</td>\n",
       "    </tr>\n",
       "    <tr>\n",
       "      <th>...</th>\n",
       "      <td>...</td>\n",
       "      <td>...</td>\n",
       "      <td>...</td>\n",
       "      <td>...</td>\n",
       "      <td>...</td>\n",
       "      <td>...</td>\n",
       "      <td>...</td>\n",
       "      <td>...</td>\n",
       "    </tr>\n",
       "    <tr>\n",
       "      <th>41026</th>\n",
       "      <td>Parkrose</td>\n",
       "      <td>8/31/17</td>\n",
       "      <td>2005</td>\n",
       "      <td>Drug/Narcotic Offenses</td>\n",
       "      <td>1</td>\n",
       "      <td>Drug/Narcotic Violations</td>\n",
       "      <td>2017-08-31</td>\n",
       "      <td>2017-08-31 20:05:00</td>\n",
       "    </tr>\n",
       "    <tr>\n",
       "      <th>41027</th>\n",
       "      <td>Sumner</td>\n",
       "      <td>8/31/17</td>\n",
       "      <td>535</td>\n",
       "      <td>Drug/Narcotic Offenses</td>\n",
       "      <td>1</td>\n",
       "      <td>Drug/Narcotic Violations</td>\n",
       "      <td>2017-08-31</td>\n",
       "      <td>2017-08-31 05:35:00</td>\n",
       "    </tr>\n",
       "    <tr>\n",
       "      <th>41028</th>\n",
       "      <td>Hazelwood</td>\n",
       "      <td>8/31/17</td>\n",
       "      <td>1619</td>\n",
       "      <td>Prostitution Offenses</td>\n",
       "      <td>1</td>\n",
       "      <td>Prostitution</td>\n",
       "      <td>2017-08-31</td>\n",
       "      <td>2017-08-31 16:19:00</td>\n",
       "    </tr>\n",
       "    <tr>\n",
       "      <th>41029</th>\n",
       "      <td>Hazelwood</td>\n",
       "      <td>8/31/17</td>\n",
       "      <td>1959</td>\n",
       "      <td>Prostitution Offenses</td>\n",
       "      <td>1</td>\n",
       "      <td>Prostitution</td>\n",
       "      <td>2017-08-31</td>\n",
       "      <td>2017-08-31 19:59:00</td>\n",
       "    </tr>\n",
       "    <tr>\n",
       "      <th>41031</th>\n",
       "      <td>Foster-Powell</td>\n",
       "      <td>8/31/17</td>\n",
       "      <td>2354</td>\n",
       "      <td>Weapon Law Violations</td>\n",
       "      <td>1</td>\n",
       "      <td>Weapons Law Violations</td>\n",
       "      <td>2017-08-31</td>\n",
       "      <td>2017-08-31 23:54:00</td>\n",
       "    </tr>\n",
       "  </tbody>\n",
       "</table>\n",
       "<p>39712 rows × 8 columns</p>\n",
       "</div>"
      ],
      "text/plain": [
       "          neighborhood occur_date  occur_time        offense_category  \\\n",
       "1           Centennial    1/20/00        1615          Fraud Offenses   \n",
       "2           Montavilla    12/1/03         800          Fraud Offenses   \n",
       "3      Southwest Hills     1/1/10           0          Fraud Offenses   \n",
       "4      Southwest Hills     1/1/10           0        Larceny Offenses   \n",
       "5                 King   11/28/10        1612          Fraud Offenses   \n",
       "...                ...        ...         ...                     ...   \n",
       "41026         Parkrose    8/31/17        2005  Drug/Narcotic Offenses   \n",
       "41027           Sumner    8/31/17         535  Drug/Narcotic Offenses   \n",
       "41028        Hazelwood    8/31/17        1619   Prostitution Offenses   \n",
       "41029        Hazelwood    8/31/17        1959   Prostitution Offenses   \n",
       "41031    Foster-Powell    8/31/17        2354   Weapon Law Violations   \n",
       "\n",
       "       offense_count                             offense_type report_date  \\\n",
       "1                  1                           Identity Theft  2017-01-20   \n",
       "2                  1  False Pretenses/Swindle/Confidence Game  2017-01-09   \n",
       "3                  1                           Identity Theft  2017-01-05   \n",
       "4                  1                        All Other Larceny  2017-01-05   \n",
       "5                  1                           Identity Theft  2017-01-03   \n",
       "...              ...                                      ...         ...   \n",
       "41026              1                 Drug/Narcotic Violations  2017-08-31   \n",
       "41027              1                 Drug/Narcotic Violations  2017-08-31   \n",
       "41028              1                             Prostitution  2017-08-31   \n",
       "41029              1                             Prostitution  2017-08-31   \n",
       "41031              1                   Weapons Law Violations  2017-08-31   \n",
       "\n",
       "           occur_datetime  \n",
       "1     2000-01-20 16:15:00  \n",
       "2     2003-12-01 08:00:00  \n",
       "3                     NaT  \n",
       "4                     NaT  \n",
       "5     2010-11-28 16:12:00  \n",
       "...                   ...  \n",
       "41026 2017-08-31 20:05:00  \n",
       "41027 2017-08-31 05:35:00  \n",
       "41028 2017-08-31 16:19:00  \n",
       "41029 2017-08-31 19:59:00  \n",
       "41031 2017-08-31 23:54:00  \n",
       "\n",
       "[39712 rows x 8 columns]"
      ]
     },
     "execution_count": 7,
     "metadata": {},
     "output_type": "execute_result"
    }
   ],
   "source": [
    "df\n"
   ]
  },
  {
   "cell_type": "code",
   "execution_count": null,
   "metadata": {},
   "outputs": [],
   "source": [
    "\n",
    "occur_datetime = pd.to_datetime(df[\"occur_date\"] +\":\"+ df['occur_time'].astype(\"str\").apply(lambda s: s[:-2]+ \":\" +s[-2:],format=\"%m/%d/%y:%H:%M\",errors=\"coerce\")\n",
    "\n",
    "df = df.assign(occur_datetime=occur_datetime)"
   ]
  },
  {
   "cell_type": "code",
   "execution_count": null,
   "metadata": {},
   "outputs": [],
   "source": [
    "df.head()"
   ]
  },
  {
   "cell_type": "markdown",
   "metadata": {},
   "source": [
    "## Drop columns first then drop rows"
   ]
  },
  {
   "cell_type": "code",
   "execution_count": null,
   "metadata": {},
   "outputs": [],
   "source": []
  },
  {
   "cell_type": "markdown",
   "metadata": {},
   "source": [
    "# if I go with DROPNA(inpalce) it will do motation to your df file. becareful. "
   ]
  },
  {
   "cell_type": "markdown",
   "metadata": {},
   "source": [
    "# Now we want to change the column names:  df['address'] bu bir Sreies olusturuyor df[['address']] bu ise bir dataframe olusturuyor."
   ]
  },
  {
   "cell_type": "code",
   "execution_count": null,
   "metadata": {},
   "outputs": [],
   "source": [
    "df[df['offense_count'] >= 2 ][\"offense_count\"]  # Buna mask deniliyor. data da 2 ve yukarinisi offense_count icin siraladi. "
   ]
  },
  {
   "cell_type": "markdown",
   "metadata": {},
   "source": [
    "# Apply method pandas methodlari hatirlanmadigi durumlarda \"lambda\" function ile apply edilerek kullanilabilir. "
   ]
  },
  {
   "cell_type": "code",
   "execution_count": null,
   "metadata": {},
   "outputs": [],
   "source": [
    "\n"
   ]
  },
  {
   "cell_type": "code",
   "execution_count": null,
   "metadata": {},
   "outputs": [],
   "source": []
  },
  {
   "cell_type": "code",
   "execution_count": null,
   "metadata": {},
   "outputs": [],
   "source": []
  },
  {
   "cell_type": "code",
   "execution_count": null,
   "metadata": {},
   "outputs": [],
   "source": []
  }
 ],
 "metadata": {
  "kernelspec": {
   "display_name": "portland_crime",
   "language": "python",
   "name": "portland_crime"
  },
  "language_info": {
   "codemirror_mode": {
    "name": "ipython",
    "version": 3
   },
   "file_extension": ".py",
   "mimetype": "text/x-python",
   "name": "python",
   "nbconvert_exporter": "python",
   "pygments_lexer": "ipython3",
   "version": "3.7.3"
  }
 },
 "nbformat": 4,
 "nbformat_minor": 4
}
