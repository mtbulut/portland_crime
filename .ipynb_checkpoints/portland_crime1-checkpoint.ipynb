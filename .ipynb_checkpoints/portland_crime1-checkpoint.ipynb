{
 "cells": [
  {
   "cell_type": "markdown",
   "metadata": {},
   "source": [
    "# Portland Crime "
   ]
  },
  {
   "cell_type": "markdown",
   "metadata": {},
   "source": [
    "## Import pachages and load clean data"
   ]
  },
  {
   "cell_type": "code",
   "execution_count": 1,
   "metadata": {},
   "outputs": [],
   "source": [
    "import pandas as pd"
   ]
  },
  {
   "cell_type": "code",
   "execution_count": 2,
   "metadata": {},
   "outputs": [],
   "source": [
    "import os"
   ]
  },
  {
   "cell_type": "code",
   "execution_count": 3,
   "metadata": {},
   "outputs": [],
   "source": [
    "import numpy as np\n",
    "import matplotlib.pyplot as plt"
   ]
  },
  {
   "cell_type": "code",
   "execution_count": 4,
   "metadata": {},
   "outputs": [],
   "source": [
    "path = os.path.join(\"Unsolved/Resources\", \"crime_incident_data2017.csv\")"
   ]
  },
  {
   "cell_type": "code",
   "execution_count": 5,
   "metadata": {},
   "outputs": [],
   "source": [
    "df =pd.read_csv(path)"
   ]
  },
  {
   "cell_type": "code",
   "execution_count": 6,
   "metadata": {},
   "outputs": [],
   "source": [
    "df = pd.read_csv(path)\\\n",
    "     .rename(columns= lambda s: s.lower().replace(' ', '_'))\\\n",
    "    [[\"neighborhood\",\n",
    "    'occur_date',\n",
    "    'occur_time',\n",
    "    'offense_category',\n",
    "    'offense_count',\n",
    "    'offense_type',\n",
    "    'report_date'\n",
    "   ]]\\\n",
    "    .dropna()\\\n",
    "    .assign(report_date=lambda df: pd.to_datetime(df['report_date'], format=\"%m/%d/%y\") )\n",
    "\n",
    "occur_datetime = pd.to_datetime(\n",
    "    df[\"occur_date\"] +\":\"+ df['occur_time'].astype(\"str\").apply(lambda s: s[:-2]+ \":\" +s[-2:]),\n",
    "                                                                format=\"%m/%d/%y:%H:%M\",\n",
    "                                                                errors=\"coerce\"\n",
    "                                                               )\n",
    "\n",
    "df = df.assign(occur_datetime=occur_datetime)\\\n",
    "    .drop(\"occur_date\", axis = 1)\\\n",
    "    .drop(\"occur_time\", axis = 1)\\\n",
    "    .dropna()"
   ]
  },
  {
   "cell_type": "code",
   "execution_count": 7,
   "metadata": {},
   "outputs": [],
   "source": [
    "# Bu kisimda listeden bir columns dusmek istersen drop methodunu kullanmak gerekiyor. "
   ]
  },
  {
   "cell_type": "code",
   "execution_count": 8,
   "metadata": {},
   "outputs": [
    {
     "data": {
      "text/html": [
       "<div>\n",
       "<style scoped>\n",
       "    .dataframe tbody tr th:only-of-type {\n",
       "        vertical-align: middle;\n",
       "    }\n",
       "\n",
       "    .dataframe tbody tr th {\n",
       "        vertical-align: top;\n",
       "    }\n",
       "\n",
       "    .dataframe thead th {\n",
       "        text-align: right;\n",
       "    }\n",
       "</style>\n",
       "<table border=\"1\" class=\"dataframe\">\n",
       "  <thead>\n",
       "    <tr style=\"text-align: right;\">\n",
       "      <th></th>\n",
       "      <th>neighborhood</th>\n",
       "      <th>offense_category</th>\n",
       "      <th>offense_count</th>\n",
       "      <th>offense_type</th>\n",
       "      <th>report_date</th>\n",
       "      <th>occur_datetime</th>\n",
       "    </tr>\n",
       "  </thead>\n",
       "  <tbody>\n",
       "    <tr>\n",
       "      <th>1</th>\n",
       "      <td>Centennial</td>\n",
       "      <td>Fraud Offenses</td>\n",
       "      <td>1</td>\n",
       "      <td>Identity Theft</td>\n",
       "      <td>2017-01-20</td>\n",
       "      <td>2000-01-20 16:15:00</td>\n",
       "    </tr>\n",
       "    <tr>\n",
       "      <th>2</th>\n",
       "      <td>Montavilla</td>\n",
       "      <td>Fraud Offenses</td>\n",
       "      <td>1</td>\n",
       "      <td>False Pretenses/Swindle/Confidence Game</td>\n",
       "      <td>2017-01-09</td>\n",
       "      <td>2003-12-01 08:00:00</td>\n",
       "    </tr>\n",
       "    <tr>\n",
       "      <th>5</th>\n",
       "      <td>King</td>\n",
       "      <td>Fraud Offenses</td>\n",
       "      <td>1</td>\n",
       "      <td>Identity Theft</td>\n",
       "      <td>2017-01-03</td>\n",
       "      <td>2010-11-28 16:12:00</td>\n",
       "    </tr>\n",
       "    <tr>\n",
       "      <th>6</th>\n",
       "      <td>Vernon</td>\n",
       "      <td>Fraud Offenses</td>\n",
       "      <td>1</td>\n",
       "      <td>False Pretenses/Swindle/Confidence Game</td>\n",
       "      <td>2017-01-26</td>\n",
       "      <td>2013-11-08 12:00:00</td>\n",
       "    </tr>\n",
       "    <tr>\n",
       "      <th>7</th>\n",
       "      <td>Vernon</td>\n",
       "      <td>Fraud Offenses</td>\n",
       "      <td>1</td>\n",
       "      <td>Identity Theft</td>\n",
       "      <td>2017-01-26</td>\n",
       "      <td>2013-11-08 12:00:00</td>\n",
       "    </tr>\n",
       "    <tr>\n",
       "      <th>...</th>\n",
       "      <td>...</td>\n",
       "      <td>...</td>\n",
       "      <td>...</td>\n",
       "      <td>...</td>\n",
       "      <td>...</td>\n",
       "      <td>...</td>\n",
       "    </tr>\n",
       "    <tr>\n",
       "      <th>41026</th>\n",
       "      <td>Parkrose</td>\n",
       "      <td>Drug/Narcotic Offenses</td>\n",
       "      <td>1</td>\n",
       "      <td>Drug/Narcotic Violations</td>\n",
       "      <td>2017-08-31</td>\n",
       "      <td>2017-08-31 20:05:00</td>\n",
       "    </tr>\n",
       "    <tr>\n",
       "      <th>41027</th>\n",
       "      <td>Sumner</td>\n",
       "      <td>Drug/Narcotic Offenses</td>\n",
       "      <td>1</td>\n",
       "      <td>Drug/Narcotic Violations</td>\n",
       "      <td>2017-08-31</td>\n",
       "      <td>2017-08-31 05:35:00</td>\n",
       "    </tr>\n",
       "    <tr>\n",
       "      <th>41028</th>\n",
       "      <td>Hazelwood</td>\n",
       "      <td>Prostitution Offenses</td>\n",
       "      <td>1</td>\n",
       "      <td>Prostitution</td>\n",
       "      <td>2017-08-31</td>\n",
       "      <td>2017-08-31 16:19:00</td>\n",
       "    </tr>\n",
       "    <tr>\n",
       "      <th>41029</th>\n",
       "      <td>Hazelwood</td>\n",
       "      <td>Prostitution Offenses</td>\n",
       "      <td>1</td>\n",
       "      <td>Prostitution</td>\n",
       "      <td>2017-08-31</td>\n",
       "      <td>2017-08-31 19:59:00</td>\n",
       "    </tr>\n",
       "    <tr>\n",
       "      <th>41031</th>\n",
       "      <td>Foster-Powell</td>\n",
       "      <td>Weapon Law Violations</td>\n",
       "      <td>1</td>\n",
       "      <td>Weapons Law Violations</td>\n",
       "      <td>2017-08-31</td>\n",
       "      <td>2017-08-31 23:54:00</td>\n",
       "    </tr>\n",
       "  </tbody>\n",
       "</table>\n",
       "<p>37168 rows × 6 columns</p>\n",
       "</div>"
      ],
      "text/plain": [
       "        neighborhood        offense_category  offense_count  \\\n",
       "1         Centennial          Fraud Offenses              1   \n",
       "2         Montavilla          Fraud Offenses              1   \n",
       "5               King          Fraud Offenses              1   \n",
       "6             Vernon          Fraud Offenses              1   \n",
       "7             Vernon          Fraud Offenses              1   \n",
       "...              ...                     ...            ...   \n",
       "41026       Parkrose  Drug/Narcotic Offenses              1   \n",
       "41027         Sumner  Drug/Narcotic Offenses              1   \n",
       "41028      Hazelwood   Prostitution Offenses              1   \n",
       "41029      Hazelwood   Prostitution Offenses              1   \n",
       "41031  Foster-Powell   Weapon Law Violations              1   \n",
       "\n",
       "                                  offense_type report_date      occur_datetime  \n",
       "1                               Identity Theft  2017-01-20 2000-01-20 16:15:00  \n",
       "2      False Pretenses/Swindle/Confidence Game  2017-01-09 2003-12-01 08:00:00  \n",
       "5                               Identity Theft  2017-01-03 2010-11-28 16:12:00  \n",
       "6      False Pretenses/Swindle/Confidence Game  2017-01-26 2013-11-08 12:00:00  \n",
       "7                               Identity Theft  2017-01-26 2013-11-08 12:00:00  \n",
       "...                                        ...         ...                 ...  \n",
       "41026                 Drug/Narcotic Violations  2017-08-31 2017-08-31 20:05:00  \n",
       "41027                 Drug/Narcotic Violations  2017-08-31 2017-08-31 05:35:00  \n",
       "41028                             Prostitution  2017-08-31 2017-08-31 16:19:00  \n",
       "41029                             Prostitution  2017-08-31 2017-08-31 19:59:00  \n",
       "41031                   Weapons Law Violations  2017-08-31 2017-08-31 23:54:00  \n",
       "\n",
       "[37168 rows x 6 columns]"
      ]
     },
     "execution_count": 8,
     "metadata": {},
     "output_type": "execute_result"
    }
   ],
   "source": [
    "df\n"
   ]
  },
  {
   "cell_type": "code",
   "execution_count": 9,
   "metadata": {},
   "outputs": [
    {
     "ename": "SyntaxError",
     "evalue": "invalid syntax (<ipython-input-9-dea36c09416e>, line 3)",
     "output_type": "error",
     "traceback": [
      "\u001b[0;36m  File \u001b[0;32m\"<ipython-input-9-dea36c09416e>\"\u001b[0;36m, line \u001b[0;32m3\u001b[0m\n\u001b[0;31m    df = df.assign(occur_datetime=occur_datetime)\u001b[0m\n\u001b[0m     ^\u001b[0m\n\u001b[0;31mSyntaxError\u001b[0m\u001b[0;31m:\u001b[0m invalid syntax\n"
     ]
    }
   ],
   "source": [
    "\n",
    "occur_datetime = pd.to_datetime(df[\"occur_date\"] +\":\"+ df['occur_time'].astype(\"str\").apply(lambda s: s[:-2]+ \":\" +s[-2:],format=\"%m/%d/%y:%H:%M\",errors=\"coerce\")\n",
    "\n",
    "df = df.assign(occur_datetime=occur_datetime)"
   ]
  },
  {
   "cell_type": "code",
   "execution_count": null,
   "metadata": {},
   "outputs": [],
   "source": [
    "df.head()"
   ]
  },
  {
   "cell_type": "markdown",
   "metadata": {},
   "source": [
    "## Drop columns first then drop rows"
   ]
  },
  {
   "cell_type": "code",
   "execution_count": null,
   "metadata": {},
   "outputs": [],
   "source": []
  },
  {
   "cell_type": "markdown",
   "metadata": {},
   "source": [
    "# if I go with DROPNA(inpalce) it will do motation to your df file. becareful. "
   ]
  },
  {
   "cell_type": "markdown",
   "metadata": {},
   "source": [
    "# Now we want to change the column names:  df['address'] bu bir Sreies olusturuyor df[['address']] bu ise bir dataframe olusturuyor."
   ]
  },
  {
   "cell_type": "code",
   "execution_count": null,
   "metadata": {},
   "outputs": [],
   "source": [
    "df[df['offense_count'] >= 2 ][\"offense_count\"]  # Buna mask deniliyor. data da 2 ve yukarinisi offense_count icin siraladi. "
   ]
  },
  {
   "cell_type": "markdown",
   "metadata": {},
   "source": [
    "# Apply method pandas methodlari hatirlanmadigi durumlarda \"lambda\" function ile apply edilerek kullanilabilir. "
   ]
  },
  {
   "cell_type": "code",
   "execution_count": null,
   "metadata": {},
   "outputs": [],
   "source": [
    "\n",
    "df.dtypes"
   ]
  },
  {
   "cell_type": "markdown",
   "metadata": {},
   "source": [
    "## Analysis "
   ]
  },
  {
   "cell_type": "code",
   "execution_count": null,
   "metadata": {},
   "outputs": [],
   "source": [
    "df.head()"
   ]
  },
  {
   "cell_type": "markdown",
   "metadata": {},
   "source": [
    "1. oldest values"
   ]
  },
  {
   "cell_type": "markdown",
   "metadata": {},
   "source": [
    "2. Time to Report"
   ]
  },
  {
   "cell_type": "markdown",
   "metadata": {},
   "source": [
    "3.a Most Crime Hour (by num row)"
   ]
  },
  {
   "cell_type": "markdown",
   "metadata": {},
   "source": [
    "## 3. Most Crime Hours (by offense_count)"
   ]
  },
  {
   "cell_type": "code",
   "execution_count": null,
   "metadata": {},
   "outputs": [],
   "source": []
  },
  {
   "cell_type": "markdown",
   "metadata": {},
   "source": [
    "## 4. Most Crime Neighborhood (by incedent)"
   ]
  },
  {
   "cell_type": "code",
   "execution_count": null,
   "metadata": {},
   "outputs": [],
   "source": [
    "neighborhood_crime_count = df['neighborhood'].value_counts()"
   ]
  },
  {
   "cell_type": "code",
   "execution_count": null,
   "metadata": {},
   "outputs": [],
   "source": [
    "neighborhood_crime_count.head(10).sort_values(ascending=True)"
   ]
  },
  {
   "cell_type": "code",
   "execution_count": null,
   "metadata": {},
   "outputs": [],
   "source": [
    "neighborhood_crime_count.tail(10)"
   ]
  },
  {
   "cell_type": "code",
   "execution_count": null,
   "metadata": {},
   "outputs": [],
   "source": [
    "neighborhood_crime_count.tail(10).sort_values(ascending=True)"
   ]
  },
  {
   "cell_type": "markdown",
   "metadata": {},
   "source": [
    "## Most Crime Neighborhoods (offense_count)"
   ]
  },
  {
   "cell_type": "code",
   "execution_count": null,
   "metadata": {},
   "outputs": [],
   "source": [
    "vehicle_df = df[df['offense_type'] == \"Theft of Motor Vehicle Parts or Accessories\"]"
   ]
  },
  {
   "cell_type": "code",
   "execution_count": null,
   "metadata": {},
   "outputs": [],
   "source": [
    "vehicle_df['neighborhood'].value_counts()"
   ]
  },
  {
   "cell_type": "code",
   "execution_count": null,
   "metadata": {},
   "outputs": [],
   "source": [
    "df.groupby('neighborhood')[\"offense_count\"].sum().sort_values()"
   ]
  },
  {
   "cell_type": "code",
   "execution_count": null,
   "metadata": {},
   "outputs": [],
   "source": [
    "df['neighborhood'].value_counts().tail()"
   ]
  },
  {
   "cell_type": "markdown",
   "metadata": {},
   "source": [
    "5. Most common Crime"
   ]
  },
  {
   "cell_type": "code",
   "execution_count": null,
   "metadata": {},
   "outputs": [],
   "source": [
    "df.dtypes"
   ]
  },
  {
   "cell_type": "code",
   "execution_count": null,
   "metadata": {},
   "outputs": [],
   "source": [
    "df"
   ]
  },
  {
   "cell_type": "code",
   "execution_count": 15,
   "metadata": {},
   "outputs": [
    {
     "data": {
      "text/plain": [
       "occur_datetime\n",
       "2017-04-28    511\n",
       "2017-05-19    507\n",
       "2017-05-26    493\n",
       "2017-04-21    486\n",
       "2017-07-21    486\n",
       "             ... \n",
       "2003-12-29      0\n",
       "2003-12-26      0\n",
       "2003-12-25      0\n",
       "2003-12-24      0\n",
       "1998-09-08      0\n",
       "Name: offense_count, Length: 9905, dtype: int64"
      ]
     },
     "execution_count": 15,
     "metadata": {},
     "output_type": "execute_result"
    }
   ],
   "source": [
    "df.groupby(pd.Grouper(key= 'occur_datetime', freq='1B'))[\"offense_count\"].sum().sort_values(ascending=False)"
   ]
  },
  {
   "cell_type": "code",
   "execution_count": 26,
   "metadata": {},
   "outputs": [
    {
     "data": {
      "text/plain": [
       "<matplotlib.axes._subplots.AxesSubplot at 0x1138b4f28>"
      ]
     },
     "execution_count": 26,
     "metadata": {},
     "output_type": "execute_result"
    },
    {
     "data": {
      "image/png": "[encoded data removed]",
      "text/plain": [
       "<Figure size 432x288 with 1 Axes>"
      ]
     },
     "metadata": {
      "needs_background": "light"
     },
     "output_type": "display_data"
    }
   ],
   "source": [
    "df.groupby(df['occur_datetime'].dt.hour)[\"offense_count\"].sum().plot(kind=\"line\")\n"
   ]
  },
  {
   "cell_type": "code",
   "execution_count": null,
   "metadata": {},
   "outputs": [],
   "source": []
  }
 ],
 "metadata": {
  "kernelspec": {
   "display_name": "portland_crime",
   "language": "python",
   "name": "portland_crime"
  },
  "language_info": {
   "codemirror_mode": {
    "name": "ipython",
    "version": 3
   },
   "file_extension": ".py",
   "mimetype": "text/x-python",
   "name": "python",
   "nbconvert_exporter": "python",
   "pygments_lexer": "ipython3",
   "version": "3.7.3"
  }
 },
 "nbformat": 4,
 "nbformat_minor": 4
}
